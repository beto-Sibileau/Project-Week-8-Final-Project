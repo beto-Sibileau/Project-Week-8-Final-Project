{
 "cells": [
  {
   "cell_type": "code",
   "execution_count": 1,
   "metadata": {},
   "outputs": [],
   "source": [
    "import numpy as np\n",
    "from sklearn.decomposition import PCA\n",
    "from sklearn.pipeline import make_pipeline\n",
    "from sklearn.model_selection import StratifiedShuffleSplit\n",
    "from sklearn.model_selection import GridSearchCV\n",
    "from sklearn.svm import SVC\n",
    "import joblib\n",
    "import matplotlib.pyplot as plt\n",
    "from matplotlib.colors import Normalize"
   ]
  },
  {
   "cell_type": "code",
   "execution_count": 2,
   "metadata": {},
   "outputs": [],
   "source": [
    "# we are looking here to find optimal parameters for ML: (random split train/test + dimensionality reduction with PCA)"
   ]
  },
  {
   "cell_type": "code",
   "execution_count": 3,
   "metadata": {},
   "outputs": [],
   "source": [
    "# Load dataset from npz files\n",
    "dict_X = np.load('../dataset/X.npz')\n",
    "dict_y = np.load('../dataset/y.npz')\n",
    "# Store arrays from dictionary\n",
    "X = dict_X['arr_0']\n",
    "y = dict_y['arr_0']"
   ]
  },
  {
   "cell_type": "code",
   "execution_count": 4,
   "metadata": {},
   "outputs": [],
   "source": [
    "# we will look first at training a model using PCA first and SVM with rbf\n",
    "# data split training/test sets for cross-validations\n",
    "cv_splits = StratifiedShuffleSplit(n_splits=5, test_size=0.25, random_state=42)"
   ]
  },
  {
   "cell_type": "code",
   "execution_count": 5,
   "metadata": {},
   "outputs": [],
   "source": [
    "# I would need a pipeline of PCA and SVM to do my parameter optimization/cross-validation\n",
    "\n",
    "# initialize PCA with n_components\n",
    "n_PCA = 10\n",
    "pca = PCA(n_components=n_PCA, whiten=True, svd_solver='randomized', random_state=42)\n",
    "# initialize SVM with Radial Basis Functions (rbf) and balanced weights (although dataset is pretty balanced)\n",
    "# possible parameter to explore in the future: break_ties (at increased comp. cost)\n",
    "sv_clf = SVC(kernel='rbf', class_weight='balanced')\n",
    "model = make_pipeline(pca, sv_clf)"
   ]
  },
  {
   "cell_type": "code",
   "execution_count": 6,
   "metadata": {},
   "outputs": [],
   "source": [
    "# Now I'm looking into parameter tuning for X_train_PCA,y_train using SVM classifier with RBF\n",
    "# C_range = np.logspace(3, 6, 4)\n",
    "C_range = np.linspace(1e4, 1e5, 4)\n",
    "# gamma_range = np.logspace(-6, -3, 4)\n",
    "gamma_range = np.linspace(1e-3, 1e-2, 4)\n",
    "sv_grid = dict(svc__gamma = gamma_range, svc__C = C_range)"
   ]
  },
  {
   "cell_type": "code",
   "execution_count": 7,
   "metadata": {},
   "outputs": [],
   "source": [
    "# cross-validation parameter optimization with PCA transformation into SVM classifier\n",
    "pca_sv_clf = GridSearchCV(model, param_grid = sv_grid, cv = cv_splits)\n"
   ]
  },
  {
   "cell_type": "code",
   "execution_count": 8,
   "metadata": {},
   "outputs": [
    {
     "name": "stdout",
     "output_type": "stream",
     "text": [
      "Wall time: 5min 50s\n"
     ]
    },
    {
     "data": {
      "text/plain": [
       "GridSearchCV(cv=StratifiedShuffleSplit(n_splits=5, random_state=42, test_size=0.25,\n",
       "            train_size=None),\n",
       "             error_score=nan,\n",
       "             estimator=Pipeline(memory=None,\n",
       "                                steps=[('pca',\n",
       "                                        PCA(copy=True, iterated_power='auto',\n",
       "                                            n_components=10, random_state=42,\n",
       "                                            svd_solver='randomized', tol=0.0,\n",
       "                                            whiten=True)),\n",
       "                                       ('svc',\n",
       "                                        SVC(C=1.0, break_ties=False,\n",
       "                                            cache_size=200,\n",
       "                                            class_weight='balanced', coef...\n",
       "                                            degree=3, gamma='scale',\n",
       "                                            kernel='rbf', max_iter=-1,\n",
       "                                            probability=False,\n",
       "                                            random_state=None, shrinking=True,\n",
       "                                            tol=0.001, verbose=False))],\n",
       "                                verbose=False),\n",
       "             iid='deprecated', n_jobs=None,\n",
       "             param_grid={'svc__C': array([ 10000.,  40000.,  70000., 100000.]),\n",
       "                         'svc__gamma': array([0.001, 0.004, 0.007, 0.01 ])},\n",
       "             pre_dispatch='2*n_jobs', refit=True, return_train_score=False,\n",
       "             scoring=None, verbose=0)"
      ]
     },
     "execution_count": 8,
     "metadata": {},
     "output_type": "execute_result"
    }
   ],
   "source": [
    "# fit different X train splits and time\n",
    "%time pca_sv_clf.fit(X, y)\n"
   ]
  },
  {
   "cell_type": "code",
   "execution_count": 9,
   "metadata": {},
   "outputs": [],
   "source": [
    "# parameter testing results\n",
    "# pca_sv_clf.best_params_"
   ]
  },
  {
   "cell_type": "code",
   "execution_count": 15,
   "metadata": {
    "collapsed": true
   },
   "outputs": [
    {
     "data": {
      "text/plain": [
       "{'mean_fit_time': array([4.1070673 , 5.84176173, 4.09272542, 3.66226053, 4.19842319,\n",
       "        3.86458597, 3.75949984, 3.79015164, 4.82449627, 4.12831731,\n",
       "        3.47165279, 3.46005092, 4.50092573, 3.66202192, 3.61862049,\n",
       "        3.50747685]),\n",
       " 'std_fit_time': array([0.26173095, 0.93316367, 0.34558179, 0.28471789, 0.09751982,\n",
       "        0.19452717, 0.23369898, 0.10107247, 0.32065876, 0.50726132,\n",
       "        0.08479943, 0.07609233, 0.31796278, 0.12564421, 0.08671509,\n",
       "        0.09416029]),\n",
       " 'mean_score_time': array([0.27789774, 0.32661033, 0.27059212, 0.2684104 , 0.24674888,\n",
       "        0.26948719, 0.24594955, 0.28545208, 0.30685768, 0.30417714,\n",
       "        0.25110888, 0.24266291, 0.25380397, 0.25468388, 0.25861039,\n",
       "        0.2540309 ]),\n",
       " 'std_score_time': array([0.05805876, 0.06099765, 0.02032089, 0.03427231, 0.01097146,\n",
       "        0.03854519, 0.01346272, 0.0423074 , 0.06701742, 0.06489674,\n",
       "        0.01462691, 0.00817485, 0.01788274, 0.03076405, 0.02959507,\n",
       "        0.02634493]),\n",
       " 'param_svc__C': masked_array(data=[10000.0, 10000.0, 10000.0, 10000.0, 40000.0, 40000.0,\n",
       "                    40000.0, 40000.0, 70000.0, 70000.0, 70000.0, 70000.0,\n",
       "                    100000.0, 100000.0, 100000.0, 100000.0],\n",
       "              mask=[False, False, False, False, False, False, False, False,\n",
       "                    False, False, False, False, False, False, False, False],\n",
       "        fill_value='?',\n",
       "             dtype=object),\n",
       " 'param_svc__gamma': masked_array(data=[0.001, 0.004, 0.007000000000000001, 0.01, 0.001, 0.004,\n",
       "                    0.007000000000000001, 0.01, 0.001, 0.004,\n",
       "                    0.007000000000000001, 0.01, 0.001, 0.004,\n",
       "                    0.007000000000000001, 0.01],\n",
       "              mask=[False, False, False, False, False, False, False, False,\n",
       "                    False, False, False, False, False, False, False, False],\n",
       "        fill_value='?',\n",
       "             dtype=object),\n",
       " 'params': [{'svc__C': 10000.0, 'svc__gamma': 0.001},\n",
       "  {'svc__C': 10000.0, 'svc__gamma': 0.004},\n",
       "  {'svc__C': 10000.0, 'svc__gamma': 0.007000000000000001},\n",
       "  {'svc__C': 10000.0, 'svc__gamma': 0.01},\n",
       "  {'svc__C': 40000.0, 'svc__gamma': 0.001},\n",
       "  {'svc__C': 40000.0, 'svc__gamma': 0.004},\n",
       "  {'svc__C': 40000.0, 'svc__gamma': 0.007000000000000001},\n",
       "  {'svc__C': 40000.0, 'svc__gamma': 0.01},\n",
       "  {'svc__C': 70000.0, 'svc__gamma': 0.001},\n",
       "  {'svc__C': 70000.0, 'svc__gamma': 0.004},\n",
       "  {'svc__C': 70000.0, 'svc__gamma': 0.007000000000000001},\n",
       "  {'svc__C': 70000.0, 'svc__gamma': 0.01},\n",
       "  {'svc__C': 100000.0, 'svc__gamma': 0.001},\n",
       "  {'svc__C': 100000.0, 'svc__gamma': 0.004},\n",
       "  {'svc__C': 100000.0, 'svc__gamma': 0.007000000000000001},\n",
       "  {'svc__C': 100000.0, 'svc__gamma': 0.01}],\n",
       " 'split0_test_score': array([0.75662252, 0.77152318, 0.75331126, 0.74668874, 0.7615894 ,\n",
       "        0.75      , 0.74337748, 0.74834437, 0.74834437, 0.75165563,\n",
       "        0.74337748, 0.74668874, 0.74668874, 0.75      , 0.74337748,\n",
       "        0.74668874]),\n",
       " 'split1_test_score': array([0.69536424, 0.72516556, 0.71688742, 0.71192053, 0.71523179,\n",
       "        0.71192053, 0.71357616, 0.71192053, 0.71688742, 0.70860927,\n",
       "        0.71192053, 0.71192053, 0.71688742, 0.70860927, 0.71192053,\n",
       "        0.71192053]),\n",
       " 'split2_test_score': array([0.72847682, 0.75496689, 0.75496689, 0.75      , 0.74337748,\n",
       "        0.74834437, 0.74834437, 0.75      , 0.75      , 0.74503311,\n",
       "        0.74834437, 0.75      , 0.74503311, 0.74337748, 0.74834437,\n",
       "        0.74834437]),\n",
       " 'split3_test_score': array([0.69205298, 0.73675497, 0.72350993, 0.73178808, 0.71192053,\n",
       "        0.72019868, 0.72350993, 0.72350993, 0.71357616, 0.71688742,\n",
       "        0.72019868, 0.72350993, 0.70198675, 0.71854305, 0.72019868,\n",
       "        0.72350993]),\n",
       " 'split4_test_score': array([0.72516556, 0.74503311, 0.74172185, 0.72847682, 0.74337748,\n",
       "        0.7384106 , 0.73178808, 0.7218543 , 0.74834437, 0.7384106 ,\n",
       "        0.72682119, 0.7218543 , 0.74337748, 0.72682119, 0.72682119,\n",
       "        0.72019868]),\n",
       " 'mean_test_score': array([0.71953642, 0.74668874, 0.73807947, 0.73377483, 0.73509934,\n",
       "        0.73377483, 0.73211921, 0.73112583, 0.73543046, 0.73211921,\n",
       "        0.73013245, 0.7307947 , 0.7307947 , 0.7294702 , 0.73013245,\n",
       "        0.73013245]),\n",
       " 'std_test_score': array([0.02377659, 0.01581104, 0.01543913, 0.01370877, 0.0188189 ,\n",
       "        0.01522459, 0.01271282, 0.01526774, 0.01653641, 0.01656953,\n",
       "        0.01377261, 0.01490434, 0.01809414, 0.01533938, 0.01377261,\n",
       "        0.01469691]),\n",
       " 'rank_test_score': array([16,  1,  2,  6,  4,  5,  7,  9,  3,  7, 12, 11, 10, 15, 12, 14])}"
      ]
     },
     "execution_count": 15,
     "metadata": {},
     "output_type": "execute_result"
    }
   ],
   "source": [
    "pca_sv_clf.cv_results_"
   ]
  },
  {
   "cell_type": "code",
   "execution_count": 11,
   "metadata": {},
   "outputs": [],
   "source": [
    "# idxRank = pca_sv_clf.cv_results_['rank_test_score']\n",
    "# for index, item in enumerate(pca_sv_clf.cv_results_['params']):\n",
    "#     print(f\"{item} - {idxRank[index]}\")"
   ]
  },
  {
   "cell_type": "code",
   "execution_count": 12,
   "metadata": {},
   "outputs": [],
   "source": [
    "# save the model to disk\n",
    "# filename = f\"../dataset/grid_{n_PCA}_16.sav\"\n",
    "# joblib.dump(pca_sv_clf, filename)"
   ]
  },
  {
   "cell_type": "code",
   "execution_count": 16,
   "metadata": {},
   "outputs": [],
   "source": [
    "scores = pca_sv_clf.cv_results_['mean_test_score'].reshape(len(C_range),\n",
    "                                                     len(gamma_range))"
   ]
  },
  {
   "cell_type": "code",
   "execution_count": 17,
   "metadata": {},
   "outputs": [],
   "source": [
    "# Utility function to move the midpoint of a colormap to be around\n",
    "# the values of interest.\n",
    "\n",
    "class MidpointNormalize(Normalize):\n",
    "\n",
    "    def __init__(self, vmin=None, vmax=None, midpoint=None, clip=False):\n",
    "        self.midpoint = midpoint\n",
    "        Normalize.__init__(self, vmin, vmax, clip)\n",
    "\n",
    "    def __call__(self, value, clip=None):\n",
    "        x, y = [self.vmin, self.midpoint, self.vmax], [0, 0.5, 1]\n",
    "        return np.ma.masked_array(np.interp(value, x, y))"
   ]
  },
  {
   "cell_type": "code",
   "execution_count": 21,
   "metadata": {},
   "outputs": [
    {
     "data": {
      "image/png": "[encoded data removed]",
      "text/plain": [
       "<Figure size 576x432 with 2 Axes>"
      ]
     },
     "metadata": {
      "needs_background": "light"
     },
     "output_type": "display_data"
    }
   ],
   "source": [
    "plt.figure(figsize=(8, 6))\n",
    "plt.subplots_adjust(left=.2, right=0.95, bottom=0.15, top=0.95)\n",
    "plt.imshow(scores, interpolation='nearest', cmap=plt.cm.hot,\n",
    "           norm=MidpointNormalize(vmin=0.7, midpoint=0.72))\n",
    "plt.xlabel('$\\gamma$')\n",
    "plt.ylabel('C')\n",
    "plt.colorbar()\n",
    "plt.xticks(np.arange(len(gamma_range)), gamma_range, rotation=45)\n",
    "plt.yticks(np.arange(len(C_range)), C_range)\n",
    "plt.title('Validation accuracy')\n",
    "plt.show()"
   ]
  },
  {
   "cell_type": "code",
   "execution_count": null,
   "metadata": {},
   "outputs": [],
   "source": [
    "# load trained model from disk\n",
    "# filename = f\"../dataset/grid_{n_PCA}_16.sav\"\n",
    "# loaded_model = joblib.load(filename)"
   ]
  },
  {
   "cell_type": "code",
   "execution_count": null,
   "metadata": {},
   "outputs": [],
   "source": [
    "# loaded_model.cv_results_"
   ]
  }
 ],
 "metadata": {
  "kernelspec": {
   "display_name": "Python 3",
   "language": "python",
   "name": "python3"
  },
  "language_info": {
   "codemirror_mode": {
    "name": "ipython",
    "version": 3
   },
   "file_extension": ".py",
   "mimetype": "text/x-python",
   "name": "python",
   "nbconvert_exporter": "python",
   "pygments_lexer": "ipython3",
   "version": "3.7.6"
  }
 },
 "nbformat": 4,
 "nbformat_minor": 4
}
