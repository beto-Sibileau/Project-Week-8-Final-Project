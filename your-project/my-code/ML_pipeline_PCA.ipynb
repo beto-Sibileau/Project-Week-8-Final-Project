{
 "cells": [
  {
   "cell_type": "code",
   "execution_count": 1,
   "metadata": {},
   "outputs": [],
   "source": [
    "import numpy as np\n",
    "import matplotlib.pyplot as plt\n",
    "import matplotlib.gridspec as gridspec\n",
    "from sklearn.decomposition import PCA\n",
    "from sklearn.decomposition import KernelPCA\n",
    "from mpl_toolkits.mplot3d import Axes3D\n",
    "from sklearn.model_selection import train_test_split\n",
    "from sklearn.pipeline import make_pipeline\n",
    "from sklearn.model_selection import StratifiedShuffleSplit\n",
    "from sklearn.model_selection import GridSearchCV\n",
    "from sklearn.svm import SVC\n",
    "import joblib"
   ]
  },
  {
   "cell_type": "code",
   "execution_count": 2,
   "metadata": {},
   "outputs": [],
   "source": [
    "# we are looking here to load data, split test and train sets, do dimensionality reduction and ML"
   ]
  },
  {
   "cell_type": "code",
   "execution_count": 3,
   "metadata": {},
   "outputs": [],
   "source": [
    "# Load dataset from npz files\n",
    "dict_X = np.load('../dataset/X.npz')\n",
    "dict_y = np.load('../dataset/y.npz')\n",
    "# Store arrays from dictionary\n",
    "X = dict_X['arr_0']\n",
    "y = dict_y['arr_0']"
   ]
  },
  {
   "cell_type": "code",
   "execution_count": 4,
   "metadata": {},
   "outputs": [],
   "source": [
    "# we will look first at training a model using PCA first and SVM with rbf\n",
    "# data split training/test sets for cross-validations\n",
    "cv_splits = StratifiedShuffleSplit(n_splits=5, test_size=0.25, random_state=42)"
   ]
  },
  {
   "cell_type": "code",
   "execution_count": 5,
   "metadata": {},
   "outputs": [],
   "source": [
    "# I would need a pipeline of PCA and SVM to do my parameter optimization/cross-validation\n",
    "\n",
    "# initialize PCA with n_components\n",
    "n_PCA = 10\n",
    "pca = PCA(n_components=n_PCA, whiten=True, svd_solver='randomized', random_state=42)\n",
    "# initialize SVM with Radial Basis Functions (rbf) and balanced weights (although dataset is pretty balanced)\n",
    "# possible parameter to explore in the future: break_ties (at increased comp. cost)\n",
    "sv_clf = SVC(kernel='rbf', class_weight='balanced')\n",
    "model = make_pipeline(pca, sv_clf)"
   ]
  },
  {
   "cell_type": "code",
   "execution_count": 6,
   "metadata": {},
   "outputs": [],
   "source": [
    "# Now I'm looking into parameter tuning for X_train_PCA,y_train using SVM classifier with RBF\n",
    "# C_range = np.logspace(3, 6, 4)\n",
    "C_range = np.linspace(1e4, 1e5, 4)\n",
    "# gamma_range = np.logspace(-6, -3, 4)\n",
    "gamma_range = np.linspace(1e-3, 1e-2, 4)\n",
    "sv_grid = dict(svc__gamma = gamma_range, svc__C = C_range)"
   ]
  },
  {
   "cell_type": "code",
   "execution_count": 7,
   "metadata": {},
   "outputs": [],
   "source": [
    "# cross-validation parameter optimization with PCA transformation into SVM classifier\n",
    "pca_sv_clf = GridSearchCV(model, param_grid = sv_grid, cv = cv_splits)\n"
   ]
  },
  {
   "cell_type": "code",
   "execution_count": 8,
   "metadata": {},
   "outputs": [
    {
     "name": "stdout",
     "output_type": "stream",
     "text": [
      "Wall time: 6min\n"
     ]
    },
    {
     "data": {
      "text/plain": [
       "GridSearchCV(cv=StratifiedShuffleSplit(n_splits=5, random_state=42, test_size=0.25,\n",
       "            train_size=None),\n",
       "             error_score=nan,\n",
       "             estimator=Pipeline(memory=None,\n",
       "                                steps=[('pca',\n",
       "                                        PCA(copy=True, iterated_power='auto',\n",
       "                                            n_components=10, random_state=42,\n",
       "                                            svd_solver='randomized', tol=0.0,\n",
       "                                            whiten=True)),\n",
       "                                       ('svc',\n",
       "                                        SVC(C=1.0, break_ties=False,\n",
       "                                            cache_size=200,\n",
       "                                            class_weight='balanced', coef...\n",
       "                                            degree=3, gamma='scale',\n",
       "                                            kernel='rbf', max_iter=-1,\n",
       "                                            probability=False,\n",
       "                                            random_state=None, shrinking=True,\n",
       "                                            tol=0.001, verbose=False))],\n",
       "                                verbose=False),\n",
       "             iid='deprecated', n_jobs=None,\n",
       "             param_grid={'svc__C': array([ 10000.,  40000.,  70000., 100000.]),\n",
       "                         'svc__gamma': array([0.001, 0.004, 0.007, 0.01 ])},\n",
       "             pre_dispatch='2*n_jobs', refit=True, return_train_score=False,\n",
       "             scoring=None, verbose=0)"
      ]
     },
     "execution_count": 8,
     "metadata": {},
     "output_type": "execute_result"
    }
   ],
   "source": [
    "# fit different X train splits and time\n",
    "%time pca_sv_clf.fit(X, y)\n"
   ]
  },
  {
   "cell_type": "code",
   "execution_count": 9,
   "metadata": {},
   "outputs": [
    {
     "data": {
      "text/plain": [
       "{'svc__C': 10000.0, 'svc__gamma': 0.004}"
      ]
     },
     "execution_count": 9,
     "metadata": {},
     "output_type": "execute_result"
    }
   ],
   "source": [
    "# parameter testing results\n",
    "pca_sv_clf.best_params_"
   ]
  },
  {
   "cell_type": "code",
   "execution_count": 10,
   "metadata": {},
   "outputs": [
    {
     "data": {
      "text/plain": [
       "{'mean_fit_time': array([3.99077063, 3.87034569, 4.00058374, 3.58612094, 4.4649106 ,\n",
       "        3.85004935, 3.70663748, 3.57896991, 4.94288049, 4.26689992,\n",
       "        4.38804421, 4.20090299, 5.0964191 , 4.18946352, 4.13698249,\n",
       "        3.97581635]),\n",
       " 'std_fit_time': array([0.18088794, 0.20950016, 0.23976956, 0.14504039, 0.11226537,\n",
       "        0.07496811, 0.10176069, 0.0923548 , 0.39641619, 0.22903394,\n",
       "        0.59889044, 0.17673092, 0.27276113, 0.1394811 , 0.17512186,\n",
       "        0.11836445]),\n",
       " 'mean_score_time': array([0.27115655, 0.26296902, 0.30260506, 0.27431054, 0.25144677,\n",
       "        0.25320306, 0.2743331 , 0.25467515, 0.28529801, 0.28654294,\n",
       "        0.32861891, 0.29699383, 0.28668938, 0.27152362, 0.30453453,\n",
       "        0.26519794]),\n",
       " 'std_score_time': array([0.02366311, 0.0150726 , 0.06036086, 0.03297585, 0.00324421,\n",
       "        0.00607991, 0.04180485, 0.00476809, 0.05788874, 0.04189429,\n",
       "        0.07311265, 0.03256366, 0.02350129, 0.02067299, 0.03891422,\n",
       "        0.0088195 ]),\n",
       " 'param_svc__C': masked_array(data=[10000.0, 10000.0, 10000.0, 10000.0, 40000.0, 40000.0,\n",
       "                    40000.0, 40000.0, 70000.0, 70000.0, 70000.0, 70000.0,\n",
       "                    100000.0, 100000.0, 100000.0, 100000.0],\n",
       "              mask=[False, False, False, False, False, False, False, False,\n",
       "                    False, False, False, False, False, False, False, False],\n",
       "        fill_value='?',\n",
       "             dtype=object),\n",
       " 'param_svc__gamma': masked_array(data=[0.001, 0.004, 0.007000000000000001, 0.01, 0.001, 0.004,\n",
       "                    0.007000000000000001, 0.01, 0.001, 0.004,\n",
       "                    0.007000000000000001, 0.01, 0.001, 0.004,\n",
       "                    0.007000000000000001, 0.01],\n",
       "              mask=[False, False, False, False, False, False, False, False,\n",
       "                    False, False, False, False, False, False, False, False],\n",
       "        fill_value='?',\n",
       "             dtype=object),\n",
       " 'params': [{'svc__C': 10000.0, 'svc__gamma': 0.001},\n",
       "  {'svc__C': 10000.0, 'svc__gamma': 0.004},\n",
       "  {'svc__C': 10000.0, 'svc__gamma': 0.007000000000000001},\n",
       "  {'svc__C': 10000.0, 'svc__gamma': 0.01},\n",
       "  {'svc__C': 40000.0, 'svc__gamma': 0.001},\n",
       "  {'svc__C': 40000.0, 'svc__gamma': 0.004},\n",
       "  {'svc__C': 40000.0, 'svc__gamma': 0.007000000000000001},\n",
       "  {'svc__C': 40000.0, 'svc__gamma': 0.01},\n",
       "  {'svc__C': 70000.0, 'svc__gamma': 0.001},\n",
       "  {'svc__C': 70000.0, 'svc__gamma': 0.004},\n",
       "  {'svc__C': 70000.0, 'svc__gamma': 0.007000000000000001},\n",
       "  {'svc__C': 70000.0, 'svc__gamma': 0.01},\n",
       "  {'svc__C': 100000.0, 'svc__gamma': 0.001},\n",
       "  {'svc__C': 100000.0, 'svc__gamma': 0.004},\n",
       "  {'svc__C': 100000.0, 'svc__gamma': 0.007000000000000001},\n",
       "  {'svc__C': 100000.0, 'svc__gamma': 0.01}],\n",
       " 'split0_test_score': array([0.75662252, 0.77152318, 0.75331126, 0.74668874, 0.7615894 ,\n",
       "        0.75      , 0.74337748, 0.74834437, 0.74834437, 0.75165563,\n",
       "        0.74337748, 0.74668874, 0.74668874, 0.75      , 0.74337748,\n",
       "        0.74668874]),\n",
       " 'split1_test_score': array([0.69536424, 0.72516556, 0.71688742, 0.71192053, 0.71523179,\n",
       "        0.71192053, 0.71357616, 0.71192053, 0.71688742, 0.70860927,\n",
       "        0.71192053, 0.71192053, 0.71688742, 0.70860927, 0.71192053,\n",
       "        0.71192053]),\n",
       " 'split2_test_score': array([0.72847682, 0.75496689, 0.75496689, 0.75      , 0.74337748,\n",
       "        0.74834437, 0.74834437, 0.75      , 0.75      , 0.74503311,\n",
       "        0.74834437, 0.75      , 0.74503311, 0.74337748, 0.74834437,\n",
       "        0.74834437]),\n",
       " 'split3_test_score': array([0.69205298, 0.73675497, 0.72350993, 0.73178808, 0.71192053,\n",
       "        0.72019868, 0.72350993, 0.72350993, 0.71357616, 0.71688742,\n",
       "        0.72019868, 0.72350993, 0.70198675, 0.71854305, 0.72019868,\n",
       "        0.72350993]),\n",
       " 'split4_test_score': array([0.72516556, 0.74503311, 0.74172185, 0.72847682, 0.74337748,\n",
       "        0.7384106 , 0.73178808, 0.7218543 , 0.74834437, 0.7384106 ,\n",
       "        0.72682119, 0.7218543 , 0.74337748, 0.72682119, 0.72682119,\n",
       "        0.72019868]),\n",
       " 'mean_test_score': array([0.71953642, 0.74668874, 0.73807947, 0.73377483, 0.73509934,\n",
       "        0.73377483, 0.73211921, 0.73112583, 0.73543046, 0.73211921,\n",
       "        0.73013245, 0.7307947 , 0.7307947 , 0.7294702 , 0.73013245,\n",
       "        0.73013245]),\n",
       " 'std_test_score': array([0.02377659, 0.01581104, 0.01543913, 0.01370877, 0.0188189 ,\n",
       "        0.01522459, 0.01271282, 0.01526774, 0.01653641, 0.01656953,\n",
       "        0.01377261, 0.01490434, 0.01809414, 0.01533938, 0.01377261,\n",
       "        0.01469691]),\n",
       " 'rank_test_score': array([16,  1,  2,  6,  4,  5,  7,  9,  3,  7, 12, 11, 10, 15, 12, 14])}"
      ]
     },
     "execution_count": 10,
     "metadata": {},
     "output_type": "execute_result"
    }
   ],
   "source": [
    "pca_sv_clf.cv_results_"
   ]
  },
  {
   "cell_type": "code",
   "execution_count": 11,
   "metadata": {},
   "outputs": [
    {
     "name": "stdout",
     "output_type": "stream",
     "text": [
      "{'svc__C': 10000.0, 'svc__gamma': 0.001} - 16\n",
      "{'svc__C': 10000.0, 'svc__gamma': 0.004} - 1\n",
      "{'svc__C': 10000.0, 'svc__gamma': 0.007000000000000001} - 2\n",
      "{'svc__C': 10000.0, 'svc__gamma': 0.01} - 6\n",
      "{'svc__C': 40000.0, 'svc__gamma': 0.001} - 4\n",
      "{'svc__C': 40000.0, 'svc__gamma': 0.004} - 5\n",
      "{'svc__C': 40000.0, 'svc__gamma': 0.007000000000000001} - 7\n",
      "{'svc__C': 40000.0, 'svc__gamma': 0.01} - 9\n",
      "{'svc__C': 70000.0, 'svc__gamma': 0.001} - 3\n",
      "{'svc__C': 70000.0, 'svc__gamma': 0.004} - 7\n",
      "{'svc__C': 70000.0, 'svc__gamma': 0.007000000000000001} - 12\n",
      "{'svc__C': 70000.0, 'svc__gamma': 0.01} - 11\n",
      "{'svc__C': 100000.0, 'svc__gamma': 0.001} - 10\n",
      "{'svc__C': 100000.0, 'svc__gamma': 0.004} - 15\n",
      "{'svc__C': 100000.0, 'svc__gamma': 0.007000000000000001} - 12\n",
      "{'svc__C': 100000.0, 'svc__gamma': 0.01} - 14\n"
     ]
    }
   ],
   "source": [
    "idxRank = pca_sv_clf.cv_results_['rank_test_score']\n",
    "for index, item in enumerate(pca_sv_clf.cv_results_['params']):\n",
    "    print(f\"{item} - {idxRank[index]}\")"
   ]
  },
  {
   "cell_type": "code",
   "execution_count": null,
   "metadata": {},
   "outputs": [],
   "source": [
    "# Here perform one training over samples using more PCA modes\n"
   ]
  },
  {
   "cell_type": "code",
   "execution_count": 12,
   "metadata": {},
   "outputs": [],
   "source": [
    "# save the model to disk\n",
    "# filename = f\"../dataset/grid_{n_PCA}_16.sav\"\n",
    "# joblib.dump(pca_sv_clf, filename)"
   ]
  },
  {
   "cell_type": "code",
   "execution_count": 13,
   "metadata": {},
   "outputs": [],
   "source": [
    "# clf = clf.fit(X_train_pca, y_train)\n",
    "# X_t_t = pca.transform(X_train)"
   ]
  },
  {
   "cell_type": "code",
   "execution_count": 14,
   "metadata": {},
   "outputs": [],
   "source": [
    "# C_range\n",
    "# C_range = np.linspace(1e4, 1e5, 4)\n",
    "# print(C_range)"
   ]
  },
  {
   "cell_type": "code",
   "execution_count": 15,
   "metadata": {},
   "outputs": [],
   "source": [
    "# gamma_range\n",
    "# gamma_range = np.linspace(1e-3, 1e-2, 4)\n",
    "# print(gamma_range)"
   ]
  }
 ],
 "metadata": {
  "kernelspec": {
   "display_name": "Python 3",
   "language": "python",
   "name": "python3"
  },
  "language_info": {
   "codemirror_mode": {
    "name": "ipython",
    "version": 3
   },
   "file_extension": ".py",
   "mimetype": "text/x-python",
   "name": "python",
   "nbconvert_exporter": "python",
   "pygments_lexer": "ipython3",
   "version": "3.7.6"
  }
 },
 "nbformat": 4,
 "nbformat_minor": 4
}
