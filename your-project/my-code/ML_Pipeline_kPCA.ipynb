{
 "cells": [
  {
   "cell_type": "code",
   "execution_count": 1,
   "metadata": {},
   "outputs": [],
   "source": [
    "import numpy as np\n",
    "from sklearn.decomposition import KernelPCA\n",
    "from sklearn.pipeline import make_pipeline\n",
    "from sklearn.model_selection import StratifiedShuffleSplit\n",
    "from sklearn.model_selection import GridSearchCV\n",
    "from sklearn.preprocessing import StandardScaler\n",
    "from sklearn.svm import SVC\n",
    "import joblib"
   ]
  },
  {
   "cell_type": "code",
   "execution_count": 2,
   "metadata": {},
   "outputs": [],
   "source": [
    "# Load dataset from npz files\n",
    "dict_X = np.load('../dataset/X.npz')\n",
    "dict_y = np.load('../dataset/y.npz')\n",
    "# Store arrays from dictionary\n",
    "X = dict_X['arr_0']\n",
    "y = dict_y['arr_0']"
   ]
  },
  {
   "cell_type": "code",
   "execution_count": 3,
   "metadata": {},
   "outputs": [],
   "source": [
    "# we will look first at training a model using kPCA pre-process and SVM with rbf classifier\n",
    "# data split training/test sets for cross-validations\n",
    "cv_splits = StratifiedShuffleSplit(n_splits=3, test_size=0.25, random_state=42)"
   ]
  },
  {
   "cell_type": "code",
   "execution_count": 4,
   "metadata": {},
   "outputs": [],
   "source": [
    "# I would need a pipeline of k-PCA and SVM to do my parameter optimization/cross-validation\n",
    "\n",
    "# initialize k-PCA with n_components (smaller number --> make the optimizer faster but less accurate solution)\n",
    "n_kPCA = 10\n",
    "\n",
    "kPCA = KernelPCA(n_components=n_kPCA, kernel='rbf', random_state=42, eigen_solver='arpack')\n",
    "\n",
    "# initialize SVM with Radial Basis Functions (rbf) and balanced weights (although dataset is pretty balanced)\n",
    "sv_clf = SVC(kernel='rbf', class_weight='balanced')"
   ]
  },
  {
   "cell_type": "code",
   "execution_count": 5,
   "metadata": {},
   "outputs": [],
   "source": [
    "# Actually output from k-PCA is not univariated\n",
    "# Then, k-PCA is combined with a standard scaler\n",
    "scaler = StandardScaler()\n",
    "scale_kPCA = make_pipeline(kPCA, scaler)\n",
    "# Now the model brings together (kPCA with unit variance) and the SVM classiffier\n",
    "model = make_pipeline(scale_kPCA, sv_clf)"
   ]
  },
  {
   "cell_type": "code",
   "execution_count": 6,
   "metadata": {},
   "outputs": [],
   "source": [
    "# Now I'm looking into parameter tuning for different sets of (X_kPCA,y_train) using SVM classifier with RBF\n",
    "# From previous analysis with PCA start with\n",
    "C_range = np.linspace(1e4, 6e4, 3)\n",
    "gamma_range = np.linspace(1e-3, 6e-2, 3)\n",
    "# Plus, we add the gamma parameter from kPCA\n",
    "kPCA_gamma = [1e-11, 5e-11, 1e-10]\n",
    "# The performance test is on Grid: gamma from kPCA, C from SVM RBF and gamma from SVM RBF\n",
    "sv_grid = dict(pipeline__kernelpca__gamma = kPCA_gamma, svc__gamma = gamma_range, svc__C = C_range)"
   ]
  },
  {
   "cell_type": "code",
   "execution_count": 7,
   "metadata": {},
   "outputs": [],
   "source": [
    "# cross-validation parameter optimization with kPCA transformation into SVM classifier\n",
    "kPCA_sv_clf = GridSearchCV(model, param_grid = sv_grid, cv = cv_splits)\n"
   ]
  },
  {
   "cell_type": "code",
   "execution_count": 8,
   "metadata": {},
   "outputs": [
    {
     "name": "stdout",
     "output_type": "stream",
     "text": [
      "Wall time: 9min 39s\n"
     ]
    },
    {
     "data": {
      "text/plain": [
       "GridSearchCV(cv=StratifiedShuffleSplit(n_splits=3, random_state=42, test_size=0.25,\n",
       "            train_size=None),\n",
       "             error_score=nan,\n",
       "             estimator=Pipeline(memory=None,\n",
       "                                steps=[('pipeline',\n",
       "                                        Pipeline(memory=None,\n",
       "                                                 steps=[('kernelpca',\n",
       "                                                         KernelPCA(alpha=1.0,\n",
       "                                                                   coef0=1,\n",
       "                                                                   copy_X=True,\n",
       "                                                                   degree=3,\n",
       "                                                                   eigen_solver='arpack',\n",
       "                                                                   fit_inverse_transform=False,\n",
       "                                                                   gamma=None,\n",
       "                                                                   kernel='rbf',\n",
       "                                                                   kernel_params=None,\n",
       "                                                                   max...\n",
       "                                            kernel='rbf', max_iter=-1,\n",
       "                                            probability=False,\n",
       "                                            random_state=None, shrinking=True,\n",
       "                                            tol=0.001, verbose=False))],\n",
       "                                verbose=False),\n",
       "             iid='deprecated', n_jobs=None,\n",
       "             param_grid={'pipeline__kernelpca__gamma': [1e-11, 5e-11, 1e-10],\n",
       "                         'svc__C': array([10000., 35000., 60000.]),\n",
       "                         'svc__gamma': array([0.001 , 0.0305, 0.06  ])},\n",
       "             pre_dispatch='2*n_jobs', refit=True, return_train_score=False,\n",
       "             scoring=None, verbose=0)"
      ]
     },
     "execution_count": 8,
     "metadata": {},
     "output_type": "execute_result"
    }
   ],
   "source": [
    "# fit (X,y) and time\n",
    "%time kPCA_sv_clf.fit(X, y)"
   ]
  },
  {
   "cell_type": "code",
   "execution_count": 9,
   "metadata": {
    "scrolled": true
   },
   "outputs": [
    {
     "data": {
      "text/plain": [
       "{'pipeline__kernelpca__gamma': 5e-11, 'svc__C': 35000.0, 'svc__gamma': 0.0305}"
      ]
     },
     "execution_count": 9,
     "metadata": {},
     "output_type": "execute_result"
    }
   ],
   "source": [
    "# parameter testing results\n",
    "kPCA_sv_clf.best_params_"
   ]
  },
  {
   "cell_type": "code",
   "execution_count": 10,
   "metadata": {},
   "outputs": [
    {
     "data": {
      "text/plain": [
       "{'mean_fit_time': array([4.95687246, 3.90645258, 3.82671094, 4.68822765, 3.6177907 ,\n",
       "        3.65283457, 4.84519728, 3.71598427, 3.74085792, 4.53040449,\n",
       "        3.93859132, 6.03402448, 6.26933217, 3.91121825, 3.73065662,\n",
       "        4.89549788, 3.69085407, 3.67177248, 4.69937491, 4.70143874,\n",
       "        5.04189221, 4.76914883, 3.82359989, 3.58413792, 4.67357628,\n",
       "        3.75800681, 3.63572264]),\n",
       " 'std_fit_time': array([1.02626903, 0.04058899, 0.17987183, 0.20753852, 0.02671841,\n",
       "        0.06470819, 0.2549243 , 0.10434458, 0.14100621, 0.24835646,\n",
       "        0.32755084, 0.88710501, 1.1578613 , 0.56676396, 0.05812211,\n",
       "        0.35787672, 0.13752855, 0.09191286, 0.73047149, 0.7256265 ,\n",
       "        0.85028587, 0.16977534, 0.35733864, 0.09675516, 0.07832751,\n",
       "        0.08185235, 0.00645646]),\n",
       " 'mean_score_time': array([2.68313511, 2.56743066, 2.61732515, 2.44939613, 2.50831922,\n",
       "        2.5547324 , 2.62348731, 2.42965579, 2.73797695, 2.71703998,\n",
       "        2.84800839, 4.42297204, 3.51977563, 2.79550227, 2.73714463,\n",
       "        2.40340233, 3.11347318, 2.3183217 , 2.78058616, 3.34527969,\n",
       "        3.29572487, 2.5152669 , 2.53866315, 2.45683392, 2.45685458,\n",
       "        2.3390828 , 2.46469267]),\n",
       " 'std_score_time': array([0.16270974, 0.03195111, 0.16824519, 0.04379983, 0.10307141,\n",
       "        0.17683098, 0.1183428 , 0.03968436, 0.19932097, 0.1731281 ,\n",
       "        0.34231363, 0.96269347, 0.93220329, 0.08085849, 0.49462221,\n",
       "        0.06953413, 0.8282146 , 0.01336482, 0.46212453, 0.66947197,\n",
       "        0.35430594, 0.12226716, 0.10002023, 0.08826134, 0.08726382,\n",
       "        0.02402759, 0.04882231]),\n",
       " 'param_pipeline__kernelpca__gamma': masked_array(data=[1e-11, 1e-11, 1e-11, 1e-11, 1e-11, 1e-11, 1e-11, 1e-11,\n",
       "                    1e-11, 5e-11, 5e-11, 5e-11, 5e-11, 5e-11, 5e-11, 5e-11,\n",
       "                    5e-11, 5e-11, 1e-10, 1e-10, 1e-10, 1e-10, 1e-10, 1e-10,\n",
       "                    1e-10, 1e-10, 1e-10],\n",
       "              mask=[False, False, False, False, False, False, False, False,\n",
       "                    False, False, False, False, False, False, False, False,\n",
       "                    False, False, False, False, False, False, False, False,\n",
       "                    False, False, False],\n",
       "        fill_value='?',\n",
       "             dtype=object),\n",
       " 'param_svc__C': masked_array(data=[10000.0, 10000.0, 10000.0, 35000.0, 35000.0, 35000.0,\n",
       "                    60000.0, 60000.0, 60000.0, 10000.0, 10000.0, 10000.0,\n",
       "                    35000.0, 35000.0, 35000.0, 60000.0, 60000.0, 60000.0,\n",
       "                    10000.0, 10000.0, 10000.0, 35000.0, 35000.0, 35000.0,\n",
       "                    60000.0, 60000.0, 60000.0],\n",
       "              mask=[False, False, False, False, False, False, False, False,\n",
       "                    False, False, False, False, False, False, False, False,\n",
       "                    False, False, False, False, False, False, False, False,\n",
       "                    False, False, False],\n",
       "        fill_value='?',\n",
       "             dtype=object),\n",
       " 'param_svc__gamma': masked_array(data=[0.001, 0.0305, 0.06, 0.001, 0.0305, 0.06, 0.001,\n",
       "                    0.0305, 0.06, 0.001, 0.0305, 0.06, 0.001, 0.0305, 0.06,\n",
       "                    0.001, 0.0305, 0.06, 0.001, 0.0305, 0.06, 0.001,\n",
       "                    0.0305, 0.06, 0.001, 0.0305, 0.06],\n",
       "              mask=[False, False, False, False, False, False, False, False,\n",
       "                    False, False, False, False, False, False, False, False,\n",
       "                    False, False, False, False, False, False, False, False,\n",
       "                    False, False, False],\n",
       "        fill_value='?',\n",
       "             dtype=object),\n",
       " 'params': [{'pipeline__kernelpca__gamma': 1e-11,\n",
       "   'svc__C': 10000.0,\n",
       "   'svc__gamma': 0.001},\n",
       "  {'pipeline__kernelpca__gamma': 1e-11,\n",
       "   'svc__C': 10000.0,\n",
       "   'svc__gamma': 0.0305},\n",
       "  {'pipeline__kernelpca__gamma': 1e-11, 'svc__C': 10000.0, 'svc__gamma': 0.06},\n",
       "  {'pipeline__kernelpca__gamma': 1e-11,\n",
       "   'svc__C': 35000.0,\n",
       "   'svc__gamma': 0.001},\n",
       "  {'pipeline__kernelpca__gamma': 1e-11,\n",
       "   'svc__C': 35000.0,\n",
       "   'svc__gamma': 0.0305},\n",
       "  {'pipeline__kernelpca__gamma': 1e-11, 'svc__C': 35000.0, 'svc__gamma': 0.06},\n",
       "  {'pipeline__kernelpca__gamma': 1e-11,\n",
       "   'svc__C': 60000.0,\n",
       "   'svc__gamma': 0.001},\n",
       "  {'pipeline__kernelpca__gamma': 1e-11,\n",
       "   'svc__C': 60000.0,\n",
       "   'svc__gamma': 0.0305},\n",
       "  {'pipeline__kernelpca__gamma': 1e-11, 'svc__C': 60000.0, 'svc__gamma': 0.06},\n",
       "  {'pipeline__kernelpca__gamma': 5e-11,\n",
       "   'svc__C': 10000.0,\n",
       "   'svc__gamma': 0.001},\n",
       "  {'pipeline__kernelpca__gamma': 5e-11,\n",
       "   'svc__C': 10000.0,\n",
       "   'svc__gamma': 0.0305},\n",
       "  {'pipeline__kernelpca__gamma': 5e-11, 'svc__C': 10000.0, 'svc__gamma': 0.06},\n",
       "  {'pipeline__kernelpca__gamma': 5e-11,\n",
       "   'svc__C': 35000.0,\n",
       "   'svc__gamma': 0.001},\n",
       "  {'pipeline__kernelpca__gamma': 5e-11,\n",
       "   'svc__C': 35000.0,\n",
       "   'svc__gamma': 0.0305},\n",
       "  {'pipeline__kernelpca__gamma': 5e-11, 'svc__C': 35000.0, 'svc__gamma': 0.06},\n",
       "  {'pipeline__kernelpca__gamma': 5e-11,\n",
       "   'svc__C': 60000.0,\n",
       "   'svc__gamma': 0.001},\n",
       "  {'pipeline__kernelpca__gamma': 5e-11,\n",
       "   'svc__C': 60000.0,\n",
       "   'svc__gamma': 0.0305},\n",
       "  {'pipeline__kernelpca__gamma': 5e-11, 'svc__C': 60000.0, 'svc__gamma': 0.06},\n",
       "  {'pipeline__kernelpca__gamma': 1e-10,\n",
       "   'svc__C': 10000.0,\n",
       "   'svc__gamma': 0.001},\n",
       "  {'pipeline__kernelpca__gamma': 1e-10,\n",
       "   'svc__C': 10000.0,\n",
       "   'svc__gamma': 0.0305},\n",
       "  {'pipeline__kernelpca__gamma': 1e-10, 'svc__C': 10000.0, 'svc__gamma': 0.06},\n",
       "  {'pipeline__kernelpca__gamma': 1e-10,\n",
       "   'svc__C': 35000.0,\n",
       "   'svc__gamma': 0.001},\n",
       "  {'pipeline__kernelpca__gamma': 1e-10,\n",
       "   'svc__C': 35000.0,\n",
       "   'svc__gamma': 0.0305},\n",
       "  {'pipeline__kernelpca__gamma': 1e-10, 'svc__C': 35000.0, 'svc__gamma': 0.06},\n",
       "  {'pipeline__kernelpca__gamma': 1e-10,\n",
       "   'svc__C': 60000.0,\n",
       "   'svc__gamma': 0.001},\n",
       "  {'pipeline__kernelpca__gamma': 1e-10,\n",
       "   'svc__C': 60000.0,\n",
       "   'svc__gamma': 0.0305},\n",
       "  {'pipeline__kernelpca__gamma': 1e-10,\n",
       "   'svc__C': 60000.0,\n",
       "   'svc__gamma': 0.06}],\n",
       " 'split0_test_score': array([0.75331126, 0.76821192, 0.76821192, 0.7615894 , 0.76986755,\n",
       "        0.76490066, 0.75496689, 0.76986755, 0.76490066, 0.74006623,\n",
       "        0.76986755, 0.76655629, 0.75827815, 0.77152318, 0.76655629,\n",
       "        0.75496689, 0.77152318, 0.76655629, 0.74834437, 0.76655629,\n",
       "        0.75993377, 0.74668874, 0.76986755, 0.7615894 , 0.75662252,\n",
       "        0.76821192, 0.76324503]),\n",
       " 'split1_test_score': array([0.69370861, 0.72350993, 0.73344371, 0.71192053, 0.72350993,\n",
       "        0.73013245, 0.72350993, 0.72019868, 0.73013245, 0.6986755 ,\n",
       "        0.72516556, 0.73178808, 0.71688742, 0.72682119, 0.72682119,\n",
       "        0.73178808, 0.72350993, 0.72682119, 0.68874172, 0.72847682,\n",
       "        0.72847682, 0.72019868, 0.72682119, 0.73013245, 0.72516556,\n",
       "        0.72516556, 0.73013245]),\n",
       " 'split2_test_score': array([0.72682119, 0.75165563, 0.74172185, 0.74172185, 0.75165563,\n",
       "        0.74172185, 0.75      , 0.75165563, 0.74172185, 0.72847682,\n",
       "        0.75165563, 0.7384106 , 0.74006623, 0.75165563, 0.7384106 ,\n",
       "        0.74172185, 0.75165563, 0.7384106 , 0.72019868, 0.74834437,\n",
       "        0.7384106 , 0.7384106 , 0.74834437, 0.7384106 , 0.74503311,\n",
       "        0.74834437, 0.7384106 ]),\n",
       " 'mean_test_score': array([0.72461369, 0.74779249, 0.74779249, 0.7384106 , 0.74834437,\n",
       "        0.74558499, 0.74282561, 0.74724062, 0.74558499, 0.72240618,\n",
       "        0.74889625, 0.74558499, 0.7384106 , 0.75      , 0.74392936,\n",
       "        0.74282561, 0.74889625, 0.74392936, 0.71909492, 0.74779249,\n",
       "        0.74227373, 0.73509934, 0.74834437, 0.74337748, 0.74227373,\n",
       "        0.74724062, 0.74392936]),\n",
       " 'std_test_score': array([0.0243827 , 0.01845282, 0.01482895, 0.02041197, 0.0190697 ,\n",
       "        0.01445453, 0.01380794, 0.02051615, 0.01445453, 0.0174344 ,\n",
       "        0.01835352, 0.0150734 , 0.0169382 , 0.01828702, 0.01668457,\n",
       "        0.00949484, 0.0196982 , 0.01668457, 0.02434519, 0.01555078,\n",
       "        0.01312956, 0.01106509, 0.0175736 , 0.01331384, 0.01298963,\n",
       "        0.01759092, 0.01407014]),\n",
       " 'rank_test_score': array([25,  6,  6, 22,  4, 11, 18, 10, 11, 26,  2, 13, 22,  1, 14, 18,  2,\n",
       "        14, 27,  6, 21, 24,  4, 17, 20,  9, 14])}"
      ]
     },
     "execution_count": 10,
     "metadata": {},
     "output_type": "execute_result"
    }
   ],
   "source": [
    "kPCA_sv_clf.cv_results_"
   ]
  },
  {
   "cell_type": "code",
   "execution_count": 11,
   "metadata": {},
   "outputs": [
    {
     "name": "stdout",
     "output_type": "stream",
     "text": [
      "{'pipeline__kernelpca__gamma': 1e-11, 'svc__C': 10000.0, 'svc__gamma': 0.001} - 25\n",
      "{'pipeline__kernelpca__gamma': 1e-11, 'svc__C': 10000.0, 'svc__gamma': 0.0305} - 6\n",
      "{'pipeline__kernelpca__gamma': 1e-11, 'svc__C': 10000.0, 'svc__gamma': 0.06} - 6\n",
      "{'pipeline__kernelpca__gamma': 1e-11, 'svc__C': 35000.0, 'svc__gamma': 0.001} - 22\n",
      "{'pipeline__kernelpca__gamma': 1e-11, 'svc__C': 35000.0, 'svc__gamma': 0.0305} - 4\n",
      "{'pipeline__kernelpca__gamma': 1e-11, 'svc__C': 35000.0, 'svc__gamma': 0.06} - 11\n",
      "{'pipeline__kernelpca__gamma': 1e-11, 'svc__C': 60000.0, 'svc__gamma': 0.001} - 18\n",
      "{'pipeline__kernelpca__gamma': 1e-11, 'svc__C': 60000.0, 'svc__gamma': 0.0305} - 10\n",
      "{'pipeline__kernelpca__gamma': 1e-11, 'svc__C': 60000.0, 'svc__gamma': 0.06} - 11\n",
      "{'pipeline__kernelpca__gamma': 5e-11, 'svc__C': 10000.0, 'svc__gamma': 0.001} - 26\n",
      "{'pipeline__kernelpca__gamma': 5e-11, 'svc__C': 10000.0, 'svc__gamma': 0.0305} - 2\n",
      "{'pipeline__kernelpca__gamma': 5e-11, 'svc__C': 10000.0, 'svc__gamma': 0.06} - 13\n",
      "{'pipeline__kernelpca__gamma': 5e-11, 'svc__C': 35000.0, 'svc__gamma': 0.001} - 22\n",
      "{'pipeline__kernelpca__gamma': 5e-11, 'svc__C': 35000.0, 'svc__gamma': 0.0305} - 1\n",
      "{'pipeline__kernelpca__gamma': 5e-11, 'svc__C': 35000.0, 'svc__gamma': 0.06} - 14\n",
      "{'pipeline__kernelpca__gamma': 5e-11, 'svc__C': 60000.0, 'svc__gamma': 0.001} - 18\n",
      "{'pipeline__kernelpca__gamma': 5e-11, 'svc__C': 60000.0, 'svc__gamma': 0.0305} - 2\n",
      "{'pipeline__kernelpca__gamma': 5e-11, 'svc__C': 60000.0, 'svc__gamma': 0.06} - 14\n",
      "{'pipeline__kernelpca__gamma': 1e-10, 'svc__C': 10000.0, 'svc__gamma': 0.001} - 27\n",
      "{'pipeline__kernelpca__gamma': 1e-10, 'svc__C': 10000.0, 'svc__gamma': 0.0305} - 6\n",
      "{'pipeline__kernelpca__gamma': 1e-10, 'svc__C': 10000.0, 'svc__gamma': 0.06} - 21\n",
      "{'pipeline__kernelpca__gamma': 1e-10, 'svc__C': 35000.0, 'svc__gamma': 0.001} - 24\n",
      "{'pipeline__kernelpca__gamma': 1e-10, 'svc__C': 35000.0, 'svc__gamma': 0.0305} - 4\n",
      "{'pipeline__kernelpca__gamma': 1e-10, 'svc__C': 35000.0, 'svc__gamma': 0.06} - 17\n",
      "{'pipeline__kernelpca__gamma': 1e-10, 'svc__C': 60000.0, 'svc__gamma': 0.001} - 20\n",
      "{'pipeline__kernelpca__gamma': 1e-10, 'svc__C': 60000.0, 'svc__gamma': 0.0305} - 9\n",
      "{'pipeline__kernelpca__gamma': 1e-10, 'svc__C': 60000.0, 'svc__gamma': 0.06} - 14\n"
     ]
    }
   ],
   "source": [
    "idxRank = kPCA_sv_clf.cv_results_['rank_test_score']\n",
    "for index, item in enumerate(kPCA_sv_clf.cv_results_['params']):\n",
    "    print(f\"{item} - {idxRank[index]}\")"
   ]
  },
  {
   "cell_type": "code",
   "execution_count": 18,
   "metadata": {},
   "outputs": [
    {
     "data": {
      "text/plain": [
       "['../dataset/grid_10_kPCA_3D_param_refinement.sav']"
      ]
     },
     "execution_count": 18,
     "metadata": {},
     "output_type": "execute_result"
    }
   ],
   "source": [
    "# save the model to disk\n",
    "filename = f\"../dataset/grid_{n_kPCA}_kPCA_3D_param_refinement.sav\"\n",
    "joblib.dump(kPCA_sv_clf, filename)"
   ]
  },
  {
   "cell_type": "code",
   "execution_count": 13,
   "metadata": {},
   "outputs": [],
   "source": [
    "# I would need a pipeline of k-PCA and SVM to do my parameter optimization/cross-validation\n",
    "\n",
    "# initialize k-PCA with n_components (less number --> make the optimizer faster but less accurate solution)\n",
    "# n_kPCA = 10\n",
    "\n",
    "# kPCA = KernelPCA(n_components=n_kPCA, kernel='rbf', random_state=42, eigen_solver='arpack')\n",
    "\n",
    "# initialize SVM with Radial Basis Functions (rbf) and balanced weights (although dataset is pretty balanced)\n",
    "# optimal parameters chosen for PCA are first used here\n",
    "# I will test performance on gamma kPCA parameter\n",
    "# sv_clf = SVC(kernel='rbf', class_weight='balanced', C=1e4, gamma=0.004)\n",
    "# model = make_pipeline(kPCA, sv_clf)"
   ]
  },
  {
   "cell_type": "code",
   "execution_count": 14,
   "metadata": {},
   "outputs": [],
   "source": [
    "# Now I'm defining gamma tuning for X_train_kPCA,y_train using SVM classifier with RBF\n",
    "# From previous kPCA analysis we estimated sigma --> 20000 (Wang paper)\n",
    "# Here I tested for this log range first: np.logspace(-13,-3,11)*5\n",
    "# Test refinement\n",
    "# kPCA_gamma = np.logspace(-11,-9,9)*5\n",
    "# gamma_grid = dict(kernelpca__gamma = kPCA_gamma)"
   ]
  },
  {
   "cell_type": "code",
   "execution_count": 15,
   "metadata": {},
   "outputs": [],
   "source": [
    "# from previous tests I confirm gamma choice from Wang paper was a good estimation of the order\n",
    "# now I do a cv test on different C and gamma parameters for the SVM classifier for a fixed gamma on kPCA\n",
    "\n",
    "# n_kPCA = 10\n",
    "# value at Wang Paper\n",
    "# gamma_rbf = 1.3e-9\n",
    "# My test value based on previous analysis (fixed parameters at SVC RBF)\n",
    "# gamma_rbf = 5e-10\n",
    "# kPCA = KernelPCA(n_components=n_kPCA, kernel='rbf', gamma=gamma_rbf, random_state=42, eigen_solver='arpack')\n",
    "# initialize SVM with Radial Basis Functions (rbf) and balanced weights (although dataset is pretty balanced)\n",
    "# sv_clf = SVC(kernel='rbf', class_weight='balanced')"
   ]
  },
  {
   "cell_type": "code",
   "execution_count": 16,
   "metadata": {},
   "outputs": [],
   "source": [
    "# cross-validation kPCA gamma optimization with kPCA transformation into SVM classifier (with fixed parameters from PCA)\n",
    "# kPCA_sv_clf = GridSearchCV(model, param_grid = gamma_grid, cv = cv_splits)"
   ]
  },
  {
   "cell_type": "code",
   "execution_count": 17,
   "metadata": {},
   "outputs": [],
   "source": [
    "# fit different X train splits and time\n",
    "# %time kPCA_sv_clf.fit(X, y)"
   ]
  }
 ],
 "metadata": {
  "kernelspec": {
   "display_name": "Python 3",
   "language": "python",
   "name": "python3"
  },
  "language_info": {
   "codemirror_mode": {
    "name": "ipython",
    "version": 3
   },
   "file_extension": ".py",
   "mimetype": "text/x-python",
   "name": "python",
   "nbconvert_exporter": "python",
   "pygments_lexer": "ipython3",
   "version": "3.7.6"
  }
 },
 "nbformat": 4,
 "nbformat_minor": 4
}
