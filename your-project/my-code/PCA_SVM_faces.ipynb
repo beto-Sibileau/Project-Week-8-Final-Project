{
 "cells": [
  {
   "cell_type": "code",
   "execution_count": 3,
   "metadata": {},
   "outputs": [],
   "source": [
    "import numpy as np\n",
    "from sklearn.model_selection import cross_val_score\n",
    "from sklearn.decomposition import PCA\n",
    "from sklearn.decomposition import KernelPCA\n",
    "from sklearn.pipeline import make_pipeline\n",
    "from sklearn.model_selection import StratifiedShuffleSplit\n",
    "from sklearn.svm import SVC"
   ]
  },
  {
   "cell_type": "code",
   "execution_count": 4,
   "metadata": {},
   "outputs": [],
   "source": [
    "# Here perform one analysis based on the best CV\n",
    "# Load dataset from npz files\n",
    "dict_X = np.load('../dataset/X.npz')\n",
    "dict_y = np.load('../dataset/y.npz')\n",
    "# Store arrays from dictionary\n",
    "X = dict_X['arr_0']\n",
    "y = dict_y['arr_0']"
   ]
  },
  {
   "cell_type": "code",
   "execution_count": 5,
   "metadata": {},
   "outputs": [],
   "source": [
    "# data split training/test sets for cross-validations\n",
    "cv_splits = StratifiedShuffleSplit(n_splits=5, test_size=0.25, random_state=42)"
   ]
  },
  {
   "cell_type": "code",
   "execution_count": 6,
   "metadata": {},
   "outputs": [],
   "source": [
    "# pipeline of PCA and SVM for cross-validation over different training/test samples\n",
    "\n",
    "# initialize PCA with n_components\n",
    "n_PCA = 50\n",
    "pca = PCA(n_components=n_PCA, whiten=True, svd_solver='randomized', random_state=42)\n",
    "# initialize SVM with Radial Basis Functions (rbf) and balanced weights (although dataset is pretty balanced)\n",
    "# parameters C and gamma are taken from previous analysis:\n",
    "# {'svc__C': 10000.0, 'svc__gamma': 0.004}\n",
    "sv_clf = SVC(kernel='rbf', class_weight='balanced', C=1e4, gamma=0.004)\n",
    "model = make_pipeline(pca, sv_clf)"
   ]
  },
  {
   "cell_type": "code",
   "execution_count": 7,
   "metadata": {},
   "outputs": [
    {
     "name": "stdout",
     "output_type": "stream",
     "text": [
      "Wall time: 29.8 s\n"
     ]
    }
   ],
   "source": [
    "# cross-validation over train/test samples with PCA transformation into SVM classifier\n",
    "%time cv_pca_50_svm = cross_val_score(model, X, y, cv=cv_splits)"
   ]
  },
  {
   "cell_type": "code",
   "execution_count": 8,
   "metadata": {},
   "outputs": [
    {
     "data": {
      "text/plain": [
       "array([0.9089404 , 0.89403974, 0.92218543, 0.91059603, 0.88410596])"
      ]
     },
     "execution_count": 8,
     "metadata": {},
     "output_type": "execute_result"
    }
   ],
   "source": [
    "cv_pca_50_svm"
   ]
  },
  {
   "cell_type": "code",
   "execution_count": null,
   "metadata": {},
   "outputs": [],
   "source": [
    "# pca_sv_clf = GridSearchCV(model, param_grid = sv_grid, cv = cv_splits)"
   ]
  }
 ],
 "metadata": {
  "kernelspec": {
   "display_name": "Python 3",
   "language": "python",
   "name": "python3"
  },
  "language_info": {
   "codemirror_mode": {
    "name": "ipython",
    "version": 3
   },
   "file_extension": ".py",
   "mimetype": "text/x-python",
   "name": "python",
   "nbconvert_exporter": "python",
   "pygments_lexer": "ipython3",
   "version": "3.7.6"
  }
 },
 "nbformat": 4,
 "nbformat_minor": 4
}
